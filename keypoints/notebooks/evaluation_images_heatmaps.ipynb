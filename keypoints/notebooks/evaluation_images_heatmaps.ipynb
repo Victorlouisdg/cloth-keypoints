{
 "cells": [
  {
   "cell_type": "code",
   "execution_count": null,
   "metadata": {},
   "outputs": [],
   "source": [
    "import torchvision.transforms\n",
    "import torch\n",
    "from keypoint_detection.utils.heatmap import gaussian_heatmap, generate_keypoints_heatmap, overlay_image_with_heatmap, get_keypoints_from_heatmap\n",
    "from keypoint_detection.models.detector import KeypointDetector\n"
   ]
  },
  {
   "cell_type": "code",
   "execution_count": null,
   "metadata": {},
   "outputs": [],
   "source": [
    "import wandb\n",
    "from pathlib import Path\n",
    "from os import listdir\n",
    "from os.path import isfile, join \n",
    "import torchvision\n",
    "from PIL import Image"
   ]
  },
  {
   "cell_type": "code",
   "execution_count": null,
   "metadata": {},
   "outputs": [],
   "source": [
    "## Get Model checkpoint from wandb\n",
    "\n",
    "\n",
    "checkpoint_reference = 'tlips/icra-2022-workshop/model-2qand21y:v11'\n",
    "\n",
    "# download checkpoint locally (if not already cached)\n",
    "run = wandb.init(project=\"test-project\", entity=\"tlips\")\n",
    "artifact = run.use_artifact(checkpoint_reference, type=\"model\")\n",
    "artifact_dir = artifact.download()\n",
    "\n",
    "# \n",
    "#checkpoint = torch.load(Path(artifact_dir) / \"model.ckpt\")\n",
    "#print(checkpoint[\"hyper_parameters\"])\n",
    "# load checkpoint\n",
    "model = KeypointDetector.load_from_checkpoint(Path(artifact_dir) / \"model.ckpt\",map_location=\"cpu\",backbone_type='Unet')"
   ]
  },
  {
   "cell_type": "code",
   "execution_count": null,
   "metadata": {},
   "outputs": [],
   "source": [
    "IMG_FOLDER = Path(\"./images\")\n",
    "onlyfiles = [f for f in listdir(IMG_FOLDER / \"original\") if isfile(join(IMG_FOLDER / \"original\", f))]"
   ]
  },
  {
   "cell_type": "code",
   "execution_count": null,
   "metadata": {},
   "outputs": [],
   "source": [
    "transform = torchvision.transforms.Compose([\n",
    "    torchvision.transforms.Resize((256,256)),\n",
    "    torchvision.transforms.ToTensor()\n",
    "])\n",
    "\n",
    "for file in onlyfiles:\n",
    "    img = Image.open(IMG_FOLDER / \"original\" / file)\n",
    "    img = transform(img)\n",
    "    with torch.no_grad():\n",
    "        heatmap = model(img.unsqueeze(0))\n",
    "    overlay = overlay_image_with_heatmap(img,heatmap.cpu().squeeze(0),0.6)\n",
    "    overlay.save(IMG_FOLDER / \"heatmaps\" / file)\n"
   ]
  },
  {
   "cell_type": "code",
   "execution_count": null,
   "metadata": {},
   "outputs": [],
   "source": []
  }
 ],
 "metadata": {
  "interpreter": {
   "hash": "f906b64a0d5d4d6115edb742e7cca7ea3d71b0e470c6accd3a055dd1e62d03fb"
  },
  "kernelspec": {
   "display_name": "Python 3.9.7 ('python39')",
   "language": "python",
   "name": "python3"
  },
  "language_info": {
   "codemirror_mode": {
    "name": "ipython",
    "version": 3
   },
   "file_extension": ".py",
   "mimetype": "text/x-python",
   "name": "python",
   "nbconvert_exporter": "python",
   "pygments_lexer": "ipython3",
   "version": "3.9.7"
  },
  "orig_nbformat": 4
 },
 "nbformat": 4,
 "nbformat_minor": 2
}
